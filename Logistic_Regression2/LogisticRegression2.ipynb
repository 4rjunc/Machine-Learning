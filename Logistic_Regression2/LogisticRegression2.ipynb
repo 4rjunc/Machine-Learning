{
 "cells": [
  {
   "cell_type": "code",
   "execution_count": 1,
   "metadata": {},
   "outputs": [
    {
     "name": "stdout",
     "output_type": "stream",
     "text": [
      "     points  assets  drafted\n",
      "0         5       1        1\n",
      "1        11       8        0\n",
      "2        12       4        1\n",
      "3         8       7        0\n",
      "4         9       0        0\n",
      "..      ...     ...      ...\n",
      "495       9       2        1\n",
      "496      25       7        0\n",
      "497       4       7        1\n",
      "498       4       8        1\n",
      "499       8       7        0\n",
      "\n",
      "[500 rows x 3 columns]\n"
     ]
    }
   ],
   "source": [
    "import pandas as pd\n",
    "import numpy as np\n",
    "from sklearn.model_selection import train_test_split\n",
    "from sklearn.linear_model import LogisticRegression\n",
    "from sklearn.metrics import classification_report\n",
    "\n",
    "np.random.seed(1)\n",
    "\n",
    "#create Dataframe\n",
    "df = pd.DataFrame({'points':np.random.randint(30,size = 1000),\n",
    "                   'assets':np.random.randint(12, size = 1000),\n",
    "                   'drafted':np.random.randint(2, size=1000)\n",
    "    \n",
    "})\n",
    "\n",
    "print(df.head(500))"
   ]
  },
  {
   "cell_type": "code",
   "execution_count": 2,
   "metadata": {},
   "outputs": [
    {
     "name": "stdout",
     "output_type": "stream",
     "text": [
      "     points  assets\n",
      "0         5       1\n",
      "1        11       8\n",
      "2        12       4\n",
      "3         8       7\n",
      "4         9       0\n",
      "..      ...     ...\n",
      "995      17       1\n",
      "996      10       3\n",
      "997      11      10\n",
      "998      14       5\n",
      "999      27       4\n",
      "\n",
      "[1000 rows x 2 columns]\n",
      "0      1\n",
      "1      0\n",
      "2      1\n",
      "3      0\n",
      "4      0\n",
      "      ..\n",
      "995    0\n",
      "996    0\n",
      "997    1\n",
      "998    0\n",
      "999    0\n",
      "Name: drafted, Length: 1000, dtype: int64\n"
     ]
    }
   ],
   "source": [
    "x = df[['points','assets']]\n",
    "print(x)\n",
    "\n",
    "y = df['drafted']\n",
    "print(y)"
   ]
  },
  {
   "cell_type": "code",
   "execution_count": 5,
   "metadata": {},
   "outputs": [
    {
     "name": "stdout",
     "output_type": "stream",
     "text": [
      "[0 1 1 1 1 1 0 1 0 1 0 1 1 1 0 0 0 0 1 0 1 0 0 0 0 1 1 0 0 0 0 1 1 0 1 1 0\n",
      " 0 0 0 0 1 1 1 1 1 0 1 0 0 0 1 0 0 0 0 1 0 1 0 0 0 0 0 1 1 0 1 0 0 0 1 0 1\n",
      " 0 1 1 1 1 0 0 0 0 1 1 0 0 0 0 0 1 1 0 0 1 1 1 0 0 0 0 0 0 0 1 0 1 1 1 0 1\n",
      " 1 0 1 1 0 0 1 0 1 1 1 0 0 1 0 0 0 0 0 0 0 1 0 1 0 0 0 0 0 1 1 0 1 0 1 1 1\n",
      " 0 1 0 0 1 1 1 1 1 1 1 1 0 1 0 1 0 0 0 0 1 0 0 0 0 1 1 0 0 1 1 0 0 0 1 1 1\n",
      " 0 0 0 0 0 1 0 0 0 1 0 1 0 1 0 0 0 0 1 1 1 0 0 0 1 0 0 0 1 0 1 1 0 0 1 0 1\n",
      " 1 0 0 0 0 0 1 0 0 1 0 0 1 0 0 1 0 0 1 0 0 0 0 1 0 0 0 0 1 0 0 0 0 0 0 0 0\n",
      " 0 0 0 1 1 0 0 0 0 1 0 1 1 0 1 0 1 1 0 1 1 0 0 0 0 1 0 0 0 0 0 1 0 1 1 0 1\n",
      " 1 1 0 0]\n"
     ]
    }
   ],
   "source": [
    "x_train,x_test,y_train,y_test = train_test_split(x,y,test_size=0.3,random_state=2)\n",
    "logistic_regression = LogisticRegression()\n",
    "logistic_regression.fit(x_train,y_train)\n",
    "y_pred = logistic_regression.predict(x_test)\n",
    "print(y_pred)"
   ]
  }
 ],
 "metadata": {
  "kernelspec": {
   "display_name": "Python 3",
   "language": "python",
   "name": "python3"
  },
  "language_info": {
   "codemirror_mode": {
    "name": "ipython",
    "version": 3
   },
   "file_extension": ".py",
   "mimetype": "text/x-python",
   "name": "python",
   "nbconvert_exporter": "python",
   "pygments_lexer": "ipython3",
   "version": "3.10.6"
  },
  "orig_nbformat": 4,
  "vscode": {
   "interpreter": {
    "hash": "916dbcbb3f70747c44a77c7bcd40155683ae19c65e1c03b4aa3499c5328201f1"
   }
  }
 },
 "nbformat": 4,
 "nbformat_minor": 2
}
