{
 "cells": [
  {
   "cell_type": "code",
   "execution_count": 14,
   "id": "2337ccd9",
   "metadata": {},
   "outputs": [
    {
     "name": "stdout",
     "output_type": "stream",
     "text": [
      "   A  B   C\n",
      "0  1  6  11\n",
      "1  2  2  55\n",
      "2  3  7  67\n",
      "3  4  9   5\n",
      "4  5  0   4\n",
      "Values \n",
      "\n",
      "[[ 1  6 11]\n",
      " [ 2  2 55]\n",
      " [ 3  7 67]\n",
      " [ 4  9  5]\n",
      " [ 5  0  4]]\n",
      "Rounding \n",
      "\n",
      "   A  B   C\n",
      "0  1  6  11\n",
      "1  2  2  55\n",
      "2  3  7  67\n",
      "3  4  9   5\n",
      "4  5  0   4\n"
     ]
    }
   ],
   "source": [
    "import pandas as pd\n",
    "import numpy  as np \n",
    "from sklearn.preprocessing import Binarizer, KBinsDiscretizer, FunctionTransformer\n",
    "\n",
    "df = pd.DataFrame({\n",
    "    'A':[1,2,3,4,5],\n",
    "    'B':[6,2,7,9,0],\n",
    "    'C':[11,55,67,5,4]\n",
    "})\n",
    "print(df)\n",
    "\n",
    "print(\"Values \\n\")\n",
    "print(df.values)\n",
    "\n",
    "print(\"Rounding \\n\")\n",
    "print(df.round(1))\n",
    "\n"
   ]
  }
 ],
 "metadata": {
  "kernelspec": {
   "display_name": "Python 3",
   "language": "python",
   "name": "python3"
  },
  "language_info": {
   "codemirror_mode": {
    "name": "ipython",
    "version": 3
   },
   "file_extension": ".py",
   "mimetype": "text/x-python",
   "name": "python",
   "nbconvert_exporter": "python",
   "pygments_lexer": "ipython3",
   "version": "3.10.6"
  },
  "vscode": {
   "interpreter": {
    "hash": "916dbcbb3f70747c44a77c7bcd40155683ae19c65e1c03b4aa3499c5328201f1"
   }
  }
 },
 "nbformat": 4,
 "nbformat_minor": 5
}
