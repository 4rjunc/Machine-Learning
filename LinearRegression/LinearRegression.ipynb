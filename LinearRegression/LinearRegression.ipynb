{
 "cells": [
  {
   "cell_type": "code",
   "execution_count": 1,
   "id": "7a33e1f3",
   "metadata": {},
   "outputs": [
    {
     "name": "stdout",
     "output_type": "stream",
     "text": [
      "    Time  Temperature  Yield\n",
      "0    130          190   35.0\n",
      "1    174          176   81.7\n",
      "2    134          205   42.5\n",
      "3    191          210   98.3\n",
      "4    165          230   52.7\n",
      "5    194          192   82.0\n",
      "6    143          220   34.5\n",
      "7    186          235   95.4\n",
      "8    139          240   56.7\n",
      "9    188          230   84.4\n",
      "10   175          200   94.3\n",
      "11   156          218   44.3\n",
      "12   190          220   83.3\n",
      "13   178          210   91.4\n",
      "14   132          208   43.5\n",
      "15   148          225   51.7\n"
     ]
    }
   ],
   "source": [
    "import pandas as mypd\n",
    "import matplotlib.pyplot as myplot\n",
    "import seaborn as mysb\n",
    "from sklearn.linear_model import LinearRegression\n",
    "from sklearn.metrics import mean_squared_error\n",
    "from sklearn.model_selection import cross_val_score\n",
    "\n",
    "mydata = mypd.read_csv(\"Mult_Reg_Yield.csv\")\n",
    "print(mydata)"
   ]
  },
  {
   "cell_type": "code",
   "execution_count": 2,
   "id": "b6c18056",
   "metadata": {},
   "outputs": [
    {
     "data": {
      "text/html": [
       "<div>\n",
       "<style scoped>\n",
       "    .dataframe tbody tr th:only-of-type {\n",
       "        vertical-align: middle;\n",
       "    }\n",
       "\n",
       "    .dataframe tbody tr th {\n",
       "        vertical-align: top;\n",
       "    }\n",
       "\n",
       "    .dataframe thead th {\n",
       "        text-align: right;\n",
       "    }\n",
       "</style>\n",
       "<table border=\"1\" class=\"dataframe\">\n",
       "  <thead>\n",
       "    <tr style=\"text-align: right;\">\n",
       "      <th></th>\n",
       "      <th>Time</th>\n",
       "      <th>Temperature</th>\n",
       "      <th>Yield</th>\n",
       "    </tr>\n",
       "  </thead>\n",
       "  <tbody>\n",
       "    <tr>\n",
       "      <th>count</th>\n",
       "      <td>16.000000</td>\n",
       "      <td>16.000000</td>\n",
       "      <td>16.000000</td>\n",
       "    </tr>\n",
       "    <tr>\n",
       "      <th>mean</th>\n",
       "      <td>163.937500</td>\n",
       "      <td>213.062500</td>\n",
       "      <td>66.981250</td>\n",
       "    </tr>\n",
       "    <tr>\n",
       "      <th>std</th>\n",
       "      <td>23.450569</td>\n",
       "      <td>17.650189</td>\n",
       "      <td>23.705336</td>\n",
       "    </tr>\n",
       "    <tr>\n",
       "      <th>min</th>\n",
       "      <td>130.000000</td>\n",
       "      <td>176.000000</td>\n",
       "      <td>34.500000</td>\n",
       "    </tr>\n",
       "    <tr>\n",
       "      <th>25%</th>\n",
       "      <td>142.000000</td>\n",
       "      <td>203.750000</td>\n",
       "      <td>44.100000</td>\n",
       "    </tr>\n",
       "    <tr>\n",
       "      <th>50%</th>\n",
       "      <td>169.500000</td>\n",
       "      <td>214.000000</td>\n",
       "      <td>69.200000</td>\n",
       "    </tr>\n",
       "    <tr>\n",
       "      <th>75%</th>\n",
       "      <td>186.500000</td>\n",
       "      <td>226.250000</td>\n",
       "      <td>86.150000</td>\n",
       "    </tr>\n",
       "    <tr>\n",
       "      <th>max</th>\n",
       "      <td>194.000000</td>\n",
       "      <td>240.000000</td>\n",
       "      <td>98.300000</td>\n",
       "    </tr>\n",
       "  </tbody>\n",
       "</table>\n",
       "</div>"
      ],
      "text/plain": [
       "             Time  Temperature      Yield\n",
       "count   16.000000    16.000000  16.000000\n",
       "mean   163.937500   213.062500  66.981250\n",
       "std     23.450569    17.650189  23.705336\n",
       "min    130.000000   176.000000  34.500000\n",
       "25%    142.000000   203.750000  44.100000\n",
       "50%    169.500000   214.000000  69.200000\n",
       "75%    186.500000   226.250000  86.150000\n",
       "max    194.000000   240.000000  98.300000"
      ]
     },
     "execution_count": 2,
     "metadata": {},
     "output_type": "execute_result"
    }
   ],
   "source": [
    "mydata.describe()"
   ]
  },
  {
   "cell_type": "code",
   "execution_count": 3,
   "id": "17066b61",
   "metadata": {},
   "outputs": [
    {
     "name": "stdout",
     "output_type": "stream",
     "text": [
      "    Time  Temperature\n",
      "0    130          190\n",
      "1    174          176\n",
      "2    134          205\n",
      "3    191          210\n",
      "4    165          230\n",
      "5    194          192\n",
      "6    143          220\n",
      "7    186          235\n",
      "8    139          240\n",
      "9    188          230\n",
      "10   175          200\n",
      "11   156          218\n",
      "12   190          220\n",
      "13   178          210\n",
      "14   132          208\n",
      "15   148          225\n"
     ]
    }
   ],
   "source": [
    "#Separating X's and Y's\n",
    "x = mydata.iloc[:,0:2]\n",
    "print(x)\n"
   ]
  },
  {
   "cell_type": "code",
   "execution_count": 4,
   "id": "1f2d6119",
   "metadata": {},
   "outputs": [
    {
     "name": "stdout",
     "output_type": "stream",
     "text": [
      "0     35.0\n",
      "1     81.7\n",
      "2     42.5\n",
      "3     98.3\n",
      "4     52.7\n",
      "5     82.0\n",
      "6     34.5\n",
      "7     95.4\n",
      "8     56.7\n",
      "9     84.4\n",
      "10    94.3\n",
      "11    44.3\n",
      "12    83.3\n",
      "13    91.4\n",
      "14    43.5\n",
      "15    51.7\n",
      "Name: Yield, dtype: float64\n"
     ]
    }
   ],
   "source": [
    "#Separating x's and y's\n",
    "y = mydata.Yield\n",
    "print(y)"
   ]
  },
  {
   "cell_type": "code",
   "execution_count": 5,
   "id": "ac3d6864",
   "metadata": {},
   "outputs": [
    {
     "name": "stdout",
     "output_type": "stream",
     "text": [
      "<seaborn.axisgrid.PairGrid object at 0x7fd0399cdd80>\n"
     ]
    },
    {
     "data": {
      "image/png": "[encoded data removed]",
      "text/plain": [
       "<Figure size 540x540 with 12 Axes>"
      ]
     },
     "metadata": {
      "needs_background": "light"
     },
     "output_type": "display_data"
    },
    {
     "name": "stdout",
     "output_type": "stream",
     "text": [
      "None\n"
     ]
    }
   ],
   "source": [
    "#Correlation Analysis\n",
    "#Scatter plot\n",
    "\n",
    "print(mysb.pairplot(mydata))\n",
    "print(myplot.show())"
   ]
  },
  {
   "cell_type": "code",
   "execution_count": 10,
   "id": "ce330050",
   "metadata": {},
   "outputs": [
    {
     "name": "stdout",
     "output_type": "stream",
     "text": [
      "LinearRegression()\n",
      "LinearRegression()\n",
      "[37.71122898 78.47777573 40.37274675 91.69885237 66.85676605 95.57252226\n",
      " 47.5647076  85.56368144 42.65657086 87.69680424 77.84332562 59.47223785\n",
      " 90.15087261 79.91970034 38.36800217 51.77420512]\n"
     ]
    }
   ],
   "source": [
    "#Regression Modeling\n",
    "#Fitting the model\n",
    "mymodel = LinearRegression()\n",
    "print(mymodel)\n",
    "\n",
    "mymodel = mymodel.fit(x,y)\n",
    "print(mymodel)\n",
    "\n",
    "pred = mymodel.predict(x)\n",
    "print(y)"
   ]
  },
  {
   "cell_type": "code",
   "execution_count": 7,
   "id": "0707abd6",
   "metadata": {},
   "outputs": [
    {
     "name": "stdout",
     "output_type": "stream",
     "text": [
      "[ 0.90608862 -0.06418911]\n",
      "-67.8843597036845\n"
     ]
    }
   ],
   "source": [
    "print(mymodel.coef_)\n",
    "\n",
    "print(mymodel.intercept_)"
   ]
  },
  {
   "cell_type": "code",
   "execution_count": 8,
   "id": "002c183a",
   "metadata": {},
   "outputs": [
    {
     "name": "stdout",
     "output_type": "stream",
     "text": [
      "LinearRegression()\n"
     ]
    }
   ],
   "source": [
    "#model accuracy-R Square value\n",
    "rsq = mymodel.score(x,y)\n",
    "print(mymodel)"
   ]
  },
  {
   "cell_type": "code",
   "execution_count": 11,
   "id": "9e5b4c02",
   "metadata": {},
   "outputs": [
    {
     "name": "stdout",
     "output_type": "stream",
     "text": [
      "1.0\n",
      "3.155443620884047e-28\n"
     ]
    }
   ],
   "source": [
    "#model accuracy-R Square value\n",
    "rsq = mymodel.score(x,y)\n",
    "print(rsq)\n",
    "\n",
    "round(rsq*100,2)\n",
    "\n",
    "mse = mean_squared_error(y,pred)\n",
    "print(mse)\n",
    "\n"
   ]
  },
  {
   "cell_type": "code",
   "execution_count": 12,
   "id": "243150d6",
   "metadata": {},
   "outputs": [
    {
     "name": "stdout",
     "output_type": "stream",
     "text": [
      "1.7763568394002505e-14\n",
      "[-2.84217094e-14  1.42108547e-14 -1.42108547e-14  1.42108547e-14\n",
      "  1.42108547e-14  1.42108547e-14  0.00000000e+00  1.42108547e-14\n",
      " -1.42108547e-14  1.42108547e-14  1.42108547e-14 -1.42108547e-14\n",
      "  4.26325641e-14  1.42108547e-14 -1.42108547e-14  0.00000000e+00]\n"
     ]
    }
   ],
   "source": [
    "import math as mymath\n",
    "rmse = mymath.sqrt(mse)\n",
    "print(rmse)\n",
    "\n",
    "#Residual Analysis\n",
    "\n",
    "res = y- pred\n",
    "print(res)"
   ]
  }
 ],
 "metadata": {
  "kernelspec": {
   "display_name": "Python 3",
   "language": "python",
   "name": "python3"
  },
  "language_info": {
   "codemirror_mode": {
    "name": "ipython",
    "version": 3
   },
   "file_extension": ".py",
   "mimetype": "text/x-python",
   "name": "python",
   "nbconvert_exporter": "python",
   "pygments_lexer": "ipython3",
   "version": "3.10.6 (main, Nov 14 2022, 16:10:14) [GCC 11.3.0]"
  },
  "vscode": {
   "interpreter": {
    "hash": "916dbcbb3f70747c44a77c7bcd40155683ae19c65e1c03b4aa3499c5328201f1"
   }
  }
 },
 "nbformat": 4,
 "nbformat_minor": 5
}
