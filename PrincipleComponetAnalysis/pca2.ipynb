{
 "cells": [
  {
   "cell_type": "code",
   "execution_count": 1,
   "id": "b04929ff",
   "metadata": {},
   "outputs": [
    {
     "name": "stdout",
     "output_type": "stream",
     "text": [
      "     Unnamed: 0  Sepal.Length  Sepal.Width  Petal.Length  Petal.Width  Species\n",
      "0             1           5.1          3.5           1.4          0.2        0\n",
      "1             2           4.9          3.0           1.4          0.2        0\n",
      "2             3           4.7          3.2           1.3          0.2        0\n",
      "3             4           4.6          3.1           1.5          0.2        0\n",
      "4             5           5.0          3.6           1.4          0.2        0\n",
      "..          ...           ...          ...           ...          ...      ...\n",
      "96          145           6.7          3.3           5.7          2.5        2\n",
      "97          146           6.7          3.0           5.2          2.3        2\n",
      "98          147           6.3          2.5           5.0          1.9        2\n",
      "99          149           6.2          3.4           5.4          2.3        2\n",
      "100         150           5.9          3.0           5.1          1.8        2\n",
      "\n",
      "[101 rows x 6 columns]\n"
     ]
    }
   ],
   "source": [
    "import pandas as mypd\n",
    "import matplotlib.pyplot as myplot\n",
    "import seaborn as mysb\n",
    "from sklearn.linear_model import LogisticRegression\n",
    "from sklearn.model_selection import cross_val_score\n",
    "from sklearn.metrics import confusion_matrix\n",
    "from sklearn.metrics import classification_report,accuracy_score\n",
    "from sklearn import metrics\n",
    "import numpy as np\n",
    "\n",
    "mydata = mypd.read_csv(\"./Iris_data.csv\")\n",
    "print(mydata)\n"
   ]
  },
  {
   "cell_type": "code",
   "execution_count": 2,
   "id": "47d0b8d7",
   "metadata": {},
   "outputs": [
    {
     "name": "stdout",
     "output_type": "stream",
     "text": [
      "            0         1         2         3         4         5\n",
      "0   -1.690187 -0.820478  0.975487 -1.301159 -1.299067 -1.210338\n",
      "1   -1.667444 -1.073126 -0.136524 -1.301159 -1.299067 -1.210338\n",
      "2   -1.644701 -1.325773  0.308280 -1.358874 -1.299067 -1.210338\n",
      "3   -1.621958 -1.452097  0.085878 -1.243444 -1.299067 -1.210338\n",
      "4   -1.599215 -0.946802  1.197889 -1.301159 -1.299067 -1.210338\n",
      "..        ...       ...       ...       ...       ...       ...\n",
      "96   1.584803  1.200700  0.530683  1.180586  1.789707  1.284440\n",
      "97   1.607546  1.200700 -0.136524  0.892011  1.521118  1.284440\n",
      "98   1.630289  0.695405 -1.248535  0.776581  0.983940  1.284440\n",
      "99   1.675775  0.569082  0.753085  1.007441  1.521118  1.284440\n",
      "100  1.698518  0.190111 -0.136524  0.834296  0.849645  1.284440\n",
      "\n",
      "[101 rows x 6 columns]\n"
     ]
    },
    {
     "data": {
      "text/plain": [
       "<AxesSubplot: >"
      ]
     },
     "execution_count": 2,
     "metadata": {},
     "output_type": "execute_result"
    },
    {
     "data": {
      "image/png": "[encoded data removed]",
      "text/plain": [
       "<Figure size 432x288 with 2 Axes>"
      ]
     },
     "metadata": {
      "needs_background": "light"
     },
     "output_type": "display_data"
    }
   ],
   "source": [
    "from sklearn.preprocessing import StandardScaler\n",
    "scaler = StandardScaler()\n",
    "scaled_data = mypd.DataFrame(scaler.fit_transform(mydata))\n",
    "print(scaled_data)\n",
    "mysb.heatmap(scaled_data.corr())\n"
   ]
  },
  {
   "cell_type": "code",
   "execution_count": 3,
   "id": "d3dfa34d",
   "metadata": {},
   "outputs": [
    {
     "name": "stdout",
     "output_type": "stream",
     "text": [
      "           PC1       PC2\n",
      "0   -74.365395  0.527860\n",
      "1   -73.366955  0.401515\n",
      "2   -72.374772  0.182620\n",
      "3   -71.369647  0.259184\n",
      "4   -70.370931  0.311149\n",
      "..         ...       ...\n",
      "96   69.736694 -0.260211\n",
      "97   70.716416 -0.761859\n",
      "98   71.699201 -1.255177\n",
      "99   73.712492 -0.961413\n",
      "100  74.691154 -1.519958\n",
      "\n",
      "[101 rows x 2 columns]\n"
     ]
    }
   ],
   "source": [
    "from sklearn.decomposition import PCA\n",
    "pca = PCA(n_components = 2)\n",
    "pca.fit(mydata)\n",
    "data_pca = pca.transform(mydata)\n",
    "data_pca = mypd.DataFrame(data_pca,columns=['PC1','PC2'])\n",
    "print(data_pca)\n",
    "\n",
    "#Uses predefined Fun.\n"
   ]
  }
 ],
 "metadata": {
  "kernelspec": {
   "display_name": "Python 3",
   "language": "python",
   "name": "python3"
  },
  "language_info": {
   "codemirror_mode": {
    "name": "ipython",
    "version": 3
   },
   "file_extension": ".py",
   "mimetype": "text/x-python",
   "name": "python",
   "nbconvert_exporter": "python",
   "pygments_lexer": "ipython3",
   "version": "3.10.6"
  },
  "vscode": {
   "interpreter": {
    "hash": "916dbcbb3f70747c44a77c7bcd40155683ae19c65e1c03b4aa3499c5328201f1"
   }
  }
 },
 "nbformat": 4,
 "nbformat_minor": 5
}
