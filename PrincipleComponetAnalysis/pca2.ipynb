{
 "cells": [
  {
   "cell_type": "code",
   "execution_count": 1,
   "id": "b04929ff",
   "metadata": {},
   "outputs": [
    {
     "name": "stdout",
     "output_type": "stream",
     "text": [
      "     Unnamed: 0  Sepal.Length  Sepal.Width  Petal.Length  Petal.Width  Species\n",
      "0             1           5.1          3.5           1.4          0.2        0\n",
      "1             2           4.9          3.0           1.4          0.2        0\n",
      "2             3           4.7          3.2           1.3          0.2        0\n",
      "3             4           4.6          3.1           1.5          0.2        0\n",
      "4             5           5.0          3.6           1.4          0.2        0\n",
      "..          ...           ...          ...           ...          ...      ...\n",
      "96          145           6.7          3.3           5.7          2.5        2\n",
      "97          146           6.7          3.0           5.2          2.3        2\n",
      "98          147           6.3          2.5           5.0          1.9        2\n",
      "99          149           6.2          3.4           5.4          2.3        2\n",
      "100         150           5.9          3.0           5.1          1.8        2\n",
      "\n",
      "[101 rows x 6 columns]\n"
     ]
    }
   ],
   "source": [
    "import pandas as mypd\n",
    "import matplotlib.pyplot as myplot\n",
    "import seaborn as mysb\n",
    "from sklearn.linear_model import LogisticRegression\n",
    "from sklearn.model_selection import cross_val_score\n",
    "from sklearn.metrics import confusion_matrix\n",
    "from sklearn.metrics import classification_report,accuracy_score\n",
    "from sklearn import metrics\n",
    "import numpy as np\n",
    "\n",
    "mydata = mypd.read_csv(\"./Iris_data.csv\")\n",
    "print(mydata)\n"
   ]
  }
 ],
 "metadata": {
  "kernelspec": {
   "display_name": "Python 3",
   "language": "python",
   "name": "python3"
  },
  "language_info": {
   "codemirror_mode": {
    "name": "ipython",
    "version": 3
   },
   "file_extension": ".py",
   "mimetype": "text/x-python",
   "name": "python",
   "nbconvert_exporter": "python",
   "pygments_lexer": "ipython3",
   "version": "3.10.6"
  },
  "vscode": {
   "interpreter": {
    "hash": "916dbcbb3f70747c44a77c7bcd40155683ae19c65e1c03b4aa3499c5328201f1"
   }
  }
 },
 "nbformat": 4,
 "nbformat_minor": 5
}
