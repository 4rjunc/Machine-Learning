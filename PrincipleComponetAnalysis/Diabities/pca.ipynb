{
 "cells": [
  {
   "cell_type": "code",
   "execution_count": 1,
   "id": "c468a271",
   "metadata": {},
   "outputs": [
    {
     "name": "stdout",
     "output_type": "stream",
     "text": [
      "     Unnamed: 0  Sepal.Length  Sepal.Width  Petal.Length  Petal.Width  Species\n",
      "0             1           5.1          3.5           1.4          0.2        0\n",
      "1             2           4.9          3.0           1.4          0.2        0\n",
      "2             3           4.7          3.2           1.3          0.2        0\n",
      "3             4           4.6          3.1           1.5          0.2        0\n",
      "4             5           5.0          3.6           1.4          0.2        0\n",
      "..          ...           ...          ...           ...          ...      ...\n",
      "96          145           6.7          3.3           5.7          2.5        2\n",
      "97          146           6.7          3.0           5.2          2.3        2\n",
      "98          147           6.3          2.5           5.0          1.9        2\n",
      "99          149           6.2          3.4           5.4          2.3        2\n",
      "100         150           5.9          3.0           5.1          1.8        2\n",
      "\n",
      "[101 rows x 6 columns]\n"
     ]
    }
   ],
   "source": [
    "import numpy as np\n",
    "\n",
    "def PCA(X, num_components):\n",
    "    #Step1\n",
    "    X_meaned = X - np.mean(X,axis=0)\n",
    "    \n",
    "    #Step2\n",
    "    cov_mat = np.cov(X_meaned, rowvar=False)\n",
    "    \n",
    "    #Step3\n",
    "    eigen_values , eigen_vectors = np.linalg.eigh(cov_mat)\n",
    "    \n",
    "    #Step4\n",
    "    sorted_index = np.argsort(eigen_values)[::-1]\n",
    "    sorted_eigenvalue = eigen_values[sorted_index]\n",
    "    sorted_eigenvectors = eigen_vectors[:,sorted_index]\n",
    "    \n",
    "    #Step5\n",
    "    eigenvectors_subset = sorted_eigenvectors[:,0:num_components]\n",
    "    \n",
    "    #Step6\n",
    "    X_reduced = np.dot(eigenvectors_subset.transpose(), X_meaned.transpose() ).transpose()\n",
    "    \n",
    "    return X_reduced\n",
    "    \n",
    "import pandas as mypd\n",
    "mydata = mypd.read_csv(\"./Iris_data.csv\")\n",
    "print(mydata)"
   ]
  }
 ],
 "metadata": {
  "kernelspec": {
   "display_name": "Python 3",
   "language": "python",
   "name": "python3"
  },
  "language_info": {
   "codemirror_mode": {
    "name": "ipython",
    "version": 3
   },
   "file_extension": ".py",
   "mimetype": "text/x-python",
   "name": "python",
   "nbconvert_exporter": "python",
   "pygments_lexer": "ipython3",
   "version": "3.10.6"
  },
  "vscode": {
   "interpreter": {
    "hash": "916dbcbb3f70747c44a77c7bcd40155683ae19c65e1c03b4aa3499c5328201f1"
   }
  }
 },
 "nbformat": 4,
 "nbformat_minor": 5
}
