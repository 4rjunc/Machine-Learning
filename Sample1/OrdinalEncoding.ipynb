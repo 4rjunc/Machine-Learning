{
 "cells": [
  {
   "cell_type": "code",
   "execution_count": 1,
   "id": "ecffc294",
   "metadata": {},
   "outputs": [
    {
     "name": "stdout",
     "output_type": "stream",
     "text": [
      "                       Name Platform    Year         Genre Publisher\n",
      "1         Super Mario Bros.      NES  1985.0      Platform  Nintendo\n",
      "2            Mario Kart Wii      Wii  2008.0        Racing  Nintendo\n",
      "3         Wii Sports Resort      Wii  2009.0        Sports  Nintendo\n",
      "4  Pokemon Red/Pokemon Blue       GB  1996.0  Role-Playing  Nintendo\n",
      "5                    Tetris       GB  1989.0        Puzzle  Nintendo\n",
      "6     New Super Mario Bros.       DS  2006.0      Platform  Nintendo\n",
      "['Action' 'Adventure' 'Fighting' 'Misc' 'Platform' 'Puzzle' 'Racing'\n",
      " 'Role-Playing' 'Shooter' 'Simulation' 'Sports' 'Strategy']\n",
      "{0: 'Action', 1: 'Adventure', 2: 'Fighting', 3: 'Misc', 4: 'Platform', 5: 'Puzzle', 6: 'Racing', 7: 'Role-Playing', 8: 'Shooter', 9: 'Simulation', 10: 'Sports', 11: 'Strategy'}\n",
      "                       Name Platform    Year         Genre  GenreLabel\n",
      "1         Super Mario Bros.      NES  1985.0      Platform           4\n",
      "2            Mario Kart Wii      Wii  2008.0        Racing           6\n",
      "3         Wii Sports Resort      Wii  2009.0        Sports          10\n",
      "4  Pokemon Red/Pokemon Blue       GB  1996.0  Role-Playing           7\n",
      "5                    Tetris       GB  1989.0        Puzzle           5\n",
      "6     New Super Mario Bros.       DS  2006.0      Platform           4\n"
     ]
    }
   ],
   "source": [
    "import pandas  as pd\n",
    "import numpy as np\n",
    "from sklearn.preprocessing import LabelEncoder\n",
    "\n",
    "vg_df = pd.read_csv('vgsales.csv',encoding='utf-8')\n",
    "print(vg_df[['Name','Platform','Year','Genre','Publisher']].iloc[1:7])\n",
    "genres = np.unique(vg_df['Genre'])\n",
    "print(genres)\n",
    "gle = LabelEncoder()\n",
    "genre_labels = gle.fit_transform(vg_df['Genre'])\n",
    "genre_mappings = {index:label for index,label in enumerate(gle.classes_)}\n",
    "print(genre_mappings)\n",
    "vg_df['GenreLabel'] = genre_labels\n",
    "print(vg_df[['Name','Platform','Year','Genre','GenreLabel']].iloc[1:7])"
   ]
  },
  {
   "cell_type": "code",
   "execution_count": null,
   "id": "471abeb9",
   "metadata": {},
   "outputs": [],
   "source": []
  }
 ],
 "metadata": {
  "kernelspec": {
   "display_name": "Python 3 (ipykernel)",
   "language": "python",
   "name": "python3"
  },
  "language_info": {
   "codemirror_mode": {
    "name": "ipython",
    "version": 3
   },
   "file_extension": ".py",
   "mimetype": "text/x-python",
   "name": "python",
   "nbconvert_exporter": "python",
   "pygments_lexer": "ipython3",
   "version": "3.10.6"
  }
 },
 "nbformat": 4,
 "nbformat_minor": 5
}
