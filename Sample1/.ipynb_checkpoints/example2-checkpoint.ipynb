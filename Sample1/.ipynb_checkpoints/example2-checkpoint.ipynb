{
 "cells": [
  {
   "cell_type": "code",
   "execution_count": 1,
   "id": "7a33e1f3",
   "metadata": {},
   "outputs": [
    {
     "name": "stdout",
     "output_type": "stream",
     "text": [
      "   height\n",
      "0    tall\n",
      "1  medium\n",
      "2   short\n",
      "3    tall\n",
      "4  medium\n",
      "5   short\n",
      "6    tall\n",
      "7  medium\n",
      "8   short\n",
      "   height  transformed\n",
      "0    tall            1\n",
      "1  medium            2\n",
      "2   short            3\n",
      "3    tall            1\n",
      "4  medium            2\n",
      "5   short            3\n",
      "6    tall            1\n",
      "7  medium            2\n",
      "8   short            3\n"
     ]
    }
   ],
   "source": [
    "import category_encoders as ce\n",
    "import pandas as pd\n",
    "\n",
    "df1 = pd.DataFrame({'height':['tall','medium','short','tall','medium','short','tall','medium','short']})\n",
    "encoder = ce.OrdinalEncoder(cols=['height'],return_df=True,mapping=[{'col':'height','mapping':{'None':0,'tall':1,'medium':2,'short':3}}])\n",
    "\n",
    "print(df1)\n",
    "df1['transformed'] = encoder.fit_transform(df1)\n",
    "print(df1)\n"
   ]
  },
  {
   "cell_type": "code",
   "execution_count": null,
   "id": "b6c18056",
   "metadata": {},
   "outputs": [],
   "source": []
  }
 ],
 "metadata": {
  "kernelspec": {
   "display_name": "Python 3 (ipykernel)",
   "language": "python",
   "name": "python3"
  },
  "language_info": {
   "codemirror_mode": {
    "name": "ipython",
    "version": 3
   },
   "file_extension": ".py",
   "mimetype": "text/x-python",
   "name": "python",
   "nbconvert_exporter": "python",
   "pygments_lexer": "ipython3",
   "version": "3.10.6"
  }
 },
 "nbformat": 4,
 "nbformat_minor": 5
}
