{
 "cells": [
  {
   "cell_type": "code",
   "execution_count": 1,
   "id": "0b560ee7",
   "metadata": {},
   "outputs": [
    {
     "name": "stdout",
     "output_type": "stream",
     "text": [
      "          id diagnosis  radius_mean  texture_mean  perimeter_mean  area_mean  \\\n",
      "0     842302         M       17.990         10.38          122.80     1001.0   \n",
      "1     842517         M       20.570         17.77          132.90     1326.0   \n",
      "2   84300903         M       19.690         21.25          130.00     1203.0   \n",
      "3   84348301         M       11.420         20.38           77.58      386.1   \n",
      "4   84358402         M       20.290         14.34          135.10     1297.0   \n",
      "..       ...       ...          ...           ...             ...        ...   \n",
      "95     86208         M       20.260         23.03          132.40     1264.0   \n",
      "96     86211         B       12.180         17.84           77.79      451.1   \n",
      "97    862261         B        9.787         19.94           62.11      294.5   \n",
      "98    862485         B       11.600         12.84           74.34      412.6   \n",
      "99    862548         M       14.420         19.77           94.48      642.5   \n",
      "\n",
      "    smoothness_mean  compactness_mean  concavity_mean  concave points_mean  \\\n",
      "0           0.11840           0.27760        0.300100             0.147100   \n",
      "1           0.08474           0.07864        0.086900             0.070170   \n",
      "2           0.10960           0.15990        0.197400             0.127900   \n",
      "3           0.14250           0.28390        0.241400             0.105200   \n",
      "4           0.10030           0.13280        0.198000             0.104300   \n",
      "..              ...               ...             ...                  ...   \n",
      "95          0.09078           0.13130        0.146500             0.086830   \n",
      "96          0.10450           0.07057        0.024900             0.029410   \n",
      "97          0.10240           0.05301        0.006829             0.007937   \n",
      "98          0.08983           0.07525        0.041960             0.033500   \n",
      "99          0.09752           0.11410        0.093880             0.058390   \n",
      "\n",
      "    ...  texture_worst  perimeter_worst  area_worst  smoothness_worst  \\\n",
      "0   ...          17.33           184.60      2019.0            0.1622   \n",
      "1   ...          23.41           158.80      1956.0            0.1238   \n",
      "2   ...          25.53           152.50      1709.0            0.1444   \n",
      "3   ...          26.50            98.87       567.7            0.2098   \n",
      "4   ...          16.67           152.20      1575.0            0.1374   \n",
      "..  ...            ...              ...         ...               ...   \n",
      "95  ...          31.59           156.10      1750.0            0.1190   \n",
      "96  ...          20.92            82.14       495.2            0.1140   \n",
      "97  ...          26.29            68.81       366.1            0.1316   \n",
      "98  ...          17.16            82.96       512.5            0.1431   \n",
      "99  ...          30.86           109.50       826.4            0.1431   \n",
      "\n",
      "    compactness_worst  concavity_worst  concave points_worst  symmetry_worst  \\\n",
      "0             0.66560          0.71190               0.26540          0.4601   \n",
      "1             0.18660          0.24160               0.18600          0.2750   \n",
      "2             0.42450          0.45040               0.24300          0.3613   \n",
      "3             0.86630          0.68690               0.25750          0.6638   \n",
      "4             0.20500          0.40000               0.16250          0.2364   \n",
      "..                ...              ...                   ...             ...   \n",
      "95            0.35390          0.40980               0.15730          0.3689   \n",
      "96            0.09358          0.04980               0.05882          0.2227   \n",
      "97            0.09473          0.02049               0.02381          0.1934   \n",
      "98            0.18510          0.19220               0.08449          0.2772   \n",
      "99            0.30260          0.31940               0.15650          0.2718   \n",
      "\n",
      "    fractal_dimension_worst  Unnamed: 32  \n",
      "0                   0.11890          NaN  \n",
      "1                   0.08902          NaN  \n",
      "2                   0.08758          NaN  \n",
      "3                   0.17300          NaN  \n",
      "4                   0.07678          NaN  \n",
      "..                      ...          ...  \n",
      "95                  0.08368          NaN  \n",
      "96                  0.07376          NaN  \n",
      "97                  0.08988          NaN  \n",
      "98                  0.08756          NaN  \n",
      "99                  0.09353          NaN  \n",
      "\n",
      "[100 rows x 33 columns]\n"
     ]
    }
   ],
   "source": [
    "import numpy as np\n",
    "import pandas as pd\n",
    "import matplotlib as mpl\n",
    "import matplotlib.pyplot as plt\n",
    "import matplotlib.pyplot as plt2\n",
    "import matplotlib.cm as cm\n",
    "from sklearn import preprocessing\n",
    "\n",
    "df = pd.read_csv(\"./data.csv\")\n",
    "\n",
    "print(df.head(100))"
   ]
  }
 ],
 "metadata": {
  "kernelspec": {
   "display_name": "Python 3",
   "language": "python",
   "name": "python3"
  },
  "language_info": {
   "codemirror_mode": {
    "name": "ipython",
    "version": 3
   },
   "file_extension": ".py",
   "mimetype": "text/x-python",
   "name": "python",
   "nbconvert_exporter": "python",
   "pygments_lexer": "ipython3",
   "version": "3.10.6"
  },
  "vscode": {
   "interpreter": {
    "hash": "916dbcbb3f70747c44a77c7bcd40155683ae19c65e1c03b4aa3499c5328201f1"
   }
  }
 },
 "nbformat": 4,
 "nbformat_minor": 5
}
